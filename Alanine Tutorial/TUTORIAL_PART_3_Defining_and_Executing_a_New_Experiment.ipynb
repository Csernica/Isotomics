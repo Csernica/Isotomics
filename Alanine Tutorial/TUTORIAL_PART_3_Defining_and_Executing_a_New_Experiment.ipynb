{
 "cells": [
  {
   "cell_type": "markdown",
   "metadata": {},
   "source": [
    "We now move into part 3 of the tutorial. By this point, you should have generated a perfect alanine dataset and reconstructed its site-specific isotopic structure. Here, we will provide a set of guidelines as to how to define and execute a new experiment. This will involve feedback between theory and experiment--to observe which fragments are observed, which peaks can be extracted, and what information those can define. We will again use alanine as an example. "
   ]
  },
  {
   "cell_type": "code",
   "execution_count": 1,
   "metadata": {},
   "outputs": [],
   "source": [
    "import sys; sys.path.insert(0, '..')\n",
    "\n",
    "from datetime import date\n",
    "\n",
    "today = date.today()\n",
    "\n",
    "import copy\n",
    "import json\n",
    "\n",
    "import numpy as np\n",
    "import pandas as pd\n",
    "from tqdm import tqdm\n",
    "import matplotlib.pyplot as plt\n",
    "import seaborn as sns\n",
    "\n",
    "import basicDeltaOperations as op\n",
    "import calcIsotopologues as ci\n",
    "import fragmentAndSimulate as fas\n",
    "import solveSystem as ss\n",
    "import alanineTest\n",
    "import spectrumVis\n",
    "import readInput as ri"
   ]
  },
  {
   "cell_type": "markdown",
   "metadata": {},
   "source": [
    "We recommend that the user define a .py file like \"alanineTest\", allowing one to easily generate new synthetic datasets. This will be invaluable. Discovering the fragmentation subgeometries will require some experimental data; in turn, the theoretical dataset can be used to predict the spectrum. We here use synthetic measurements to do so:"
   ]
  },
  {
   "cell_type": "code",
   "execution_count": 2,
   "metadata": {},
   "outputs": [
    {
     "name": "stdout",
     "output_type": "stream",
     "text": [
      "Delta 18O\n",
      "0.0\n",
      "Calculating Isotopologue Concentrations\n"
     ]
    },
    {
     "name": "stderr",
     "output_type": "stream",
     "text": [
      "100%|███████████████████████████████████████████████████████████████████████████| 1512/1512 [00:00<00:00, 72277.67it/s]\n"
     ]
    },
    {
     "name": "stdout",
     "output_type": "stream",
     "text": [
      "Compiling Isotopologue Dictionary\n"
     ]
    },
    {
     "name": "stderr",
     "output_type": "stream",
     "text": [
      "100%|███████████████████████████████████████████████████████████████████████████| 1512/1512 [00:00<00:00, 39890.73it/s]"
     ]
    },
    {
     "name": "stdout",
     "output_type": "stream",
     "text": [
      "Simulating Measurement\n"
     ]
    },
    {
     "name": "stderr",
     "output_type": "stream",
     "text": [
      "\n"
     ]
    }
   ],
   "source": [
    "deltas = [-30,-30,0,0,0,0]\n",
    "fragSubset = ['full','44']\n",
    "df, expandedFrags, fragSubgeometryKeys, fragmentationDictionary = alanineTest.initializeAlanine(deltas, fragSubset)\n",
    "\n",
    "unresolvedDict = {}\n",
    "calcFF = False\n",
    "forbiddenPeaks = {}\n",
    "UValueList = []\n",
    "massThreshold = 1\n",
    "\n",
    "byAtom = ci.inputToAtomDict(df, disable = True)\n",
    "\n",
    "predictedMeasurement, MNDict, fractionationFactorsSmp = alanineTest.simulateMeasurement(df, fragmentationDictionary, \n",
    "                                                                                 expandedFrags, fragSubgeometryKeys, \n",
    "                                                   outputPath = None,\n",
    "                                                               calcFF = calcFF,\n",
    "                                                               ffstd = 0.05,\n",
    "                                                   unresolvedDict = unresolvedDict,\n",
    "                                                   outputFull = False,\n",
    "                                                   omitMeasurements = forbiddenPeaks,\n",
    "                                                   UValueList = UValueList,\n",
    "                                                   massThreshold = massThreshold)"
   ]
  },
  {
   "cell_type": "markdown",
   "metadata": {},
   "source": [
    "We may visualize the spectrum using some functions to help assign and identify experimentally observed peaks. We first do this for the full molecule."
   ]
  },
  {
   "cell_type": "code",
   "execution_count": 3,
   "metadata": {},
   "outputs": [
    {
     "name": "stderr",
     "output_type": "stream",
     "text": [
      "100%|███████████████████████████████████████████████████████████████████████████| 1512/1512 [00:00<00:00, 84234.83it/s]\n"
     ]
    },
    {
     "data": {
      "image/png": "[encoded data removed]",
      "text/plain": [
       "<Figure size 720x288 with 1 Axes>"
      ]
     },
     "metadata": {
      "needs_background": "light"
     },
     "output_type": "display_data"
    }
   ],
   "source": [
    "spectrumVis.fullSpectrumVis(df, byAtom, figsize = (10,4), \n",
    "                            lowAbundanceCutOff = 0, \n",
    "                            massError = 0, \n",
    "                            xlim =(90,93), \n",
    "                            ylim = ())"
   ]
  },
  {
   "cell_type": "markdown",
   "metadata": {},
   "source": [
    "And next for the M+N experiments. Running these simulations and comparing to observed data can help identify and assign peaks of interest. "
   ]
  },
  {
   "cell_type": "code",
   "execution_count": 4,
   "metadata": {},
   "outputs": [
    {
     "data": {
      "image/png": "[encoded data removed]",
      "text/plain": [
       "<Figure size 720x288 with 1 Axes>"
      ]
     },
     "metadata": {
      "needs_background": "light"
     },
     "output_type": "display_data"
    }
   ],
   "source": [
    "spectrumVis.MNSpectrumVis(df, 'full', predictedMeasurement, 'M1', MNDict, \n",
    "              lowAbundanceCutOff = 0, \n",
    "              massError = 0, \n",
    "              xlim = (), \n",
    "              ylim = ())"
   ]
  },
  {
   "cell_type": "markdown",
   "metadata": {},
   "source": [
    "Once the peaks of interest have been selected and identified, we recommend building a model of a sample/standard comparison to determine whether the molecule, fragments etc. are defined properly (e.g. there are no better ways to define sites, no errors in the input fragments). First, we should do this assuming a measurement which is perfect except that some peaks are not observed. We can define these using the abundance threshold and the forbiddenPeaks tools. For example, in this case, our experiment showed we did not observe the full 17O or D peaks as well as the 44 D peak. "
   ]
  },
  {
   "cell_type": "code",
   "execution_count": 5,
   "metadata": {},
   "outputs": [
    {
     "name": "stdout",
     "output_type": "stream",
     "text": [
      "Delta 18O\n",
      "0.0\n",
      "Calculating Isotopologue Concentrations\n"
     ]
    },
    {
     "name": "stderr",
     "output_type": "stream",
     "text": [
      "100%|███████████████████████████████████████████████████████████████████████████| 1512/1512 [00:00<00:00, 84077.37it/s]\n"
     ]
    },
    {
     "name": "stdout",
     "output_type": "stream",
     "text": [
      "Compiling Isotopologue Dictionary\n"
     ]
    },
    {
     "name": "stderr",
     "output_type": "stream",
     "text": [
      "100%|███████████████████████████████████████████████████████████████████████████| 1512/1512 [00:00<00:00, 39877.93it/s]"
     ]
    },
    {
     "name": "stdout",
     "output_type": "stream",
     "text": [
      "Simulating Measurement\n"
     ]
    },
    {
     "name": "stderr",
     "output_type": "stream",
     "text": [
      "\n"
     ]
    }
   ],
   "source": [
    "deltas = [-30,-30,0,0,0,0]\n",
    "fragSubset = ['full', '44']\n",
    "df, expandedFrags, fragSubgeometryKeys, fragmentationDictionary = alanineTest.initializeAlanine(deltas, fragSubset)\n",
    "\n",
    "unresolvedDict = {}\n",
    "calcFF = False\n",
    "forbiddenPeaks = {'M1':{'full':['17O','D'],'44':['D']}}\n",
    "UValueList = ['13C']\n",
    "\n",
    "predictedMeasurement, MNDict, fractionationFactors = alanineTest.simulateMeasurement(df, fragmentationDictionary, \n",
    "                                                                                 expandedFrags, fragSubgeometryKeys, \n",
    "                                                   abundanceThreshold = 0.0,\n",
    "                                                   outputPath = str(today) + \" TUTORIAL 3 Sample\",\n",
    "                                                               calcFF = calcFF,\n",
    "                                                               ffstd = 0.05,\n",
    "                                                   unresolvedDict = unresolvedDict,\n",
    "                                                   outputFull = False,\n",
    "                                                   omitMeasurements = forbiddenPeaks,\n",
    "                                                   UValueList = UValueList,\n",
    "                                                   massThreshold = massThreshold)"
   ]
  },
  {
   "cell_type": "markdown",
   "metadata": {},
   "source": [
    "We then check the measurement to make sure only the peaks we actually observed appear"
   ]
  },
  {
   "cell_type": "code",
   "execution_count": 6,
   "metadata": {},
   "outputs": [
    {
     "data": {
      "text/plain": [
       "{'full': {'15N': {'Abs. Abundance': 0.0035240895610821757,\n",
       "   'Rel. Abundance': 0.09577373138104994,\n",
       "   'Combined Rel. Abundance': 0.09577373138104994,\n",
       "   'Adj. Rel. Abundance': 0.10105494100931567},\n",
       "  '13C': {'Abs. Abundance': 0.03134891640858447,\n",
       "   'Rel. Abundance': 0.8519654926933189,\n",
       "   'Combined Rel. Abundance': 0.8519654926933189,\n",
       "   'Adj. Rel. Abundance': 0.8989450589906843}},\n",
       " '44': {'Unsub': {'Abs. Abundance': 0.011476686579950324,\n",
       "   'Rel. Abundance': 0.3119004436751976,\n",
       "   'Combined Rel. Abundance': 0.3119004436751976,\n",
       "   'Adj. Rel. Abundance': 0.31968438434406377},\n",
       "  '15N': {'Abs. Abundance': 0.0035240895610821757,\n",
       "   'Rel. Abundance': 0.09577373138104994,\n",
       "   'Combined Rel. Abundance': 0.09577373138104994,\n",
       "   'Adj. Rel. Abundance': 0.09816390766269176},\n",
       "  '13C': {'Abs. Abundance': 0.02089927760572298,\n",
       "   'Rel. Abundance': 0.5679769951288792,\n",
       "   'Combined Rel. Abundance': 0.5679769951288792,\n",
       "   'Adj. Rel. Abundance': 0.5821517079932446}}}"
      ]
     },
     "execution_count": 6,
     "metadata": {},
     "output_type": "execute_result"
    }
   ],
   "source": [
    "predictedMeasurement['M1']"
   ]
  },
  {
   "cell_type": "markdown",
   "metadata": {},
   "source": [
    "If our result is as expected, we then generate a standard with the same conditions"
   ]
  },
  {
   "cell_type": "code",
   "execution_count": 7,
   "metadata": {},
   "outputs": [
    {
     "name": "stdout",
     "output_type": "stream",
     "text": [
      "Delta 18O\n",
      "0.0\n",
      "Calculating Isotopologue Concentrations\n"
     ]
    },
    {
     "name": "stderr",
     "output_type": "stream",
     "text": [
      "100%|███████████████████████████████████████████████████████████████████████████| 1512/1512 [00:00<00:00, 65905.14it/s]\n"
     ]
    },
    {
     "name": "stdout",
     "output_type": "stream",
     "text": [
      "Compiling Isotopologue Dictionary\n"
     ]
    },
    {
     "name": "stderr",
     "output_type": "stream",
     "text": [
      "100%|███████████████████████████████████████████████████████████████████████████| 1512/1512 [00:00<00:00, 45898.44it/s]"
     ]
    },
    {
     "name": "stdout",
     "output_type": "stream",
     "text": [
      "Simulating Measurement\n"
     ]
    },
    {
     "name": "stderr",
     "output_type": "stream",
     "text": [
      "\n"
     ]
    }
   ],
   "source": [
    "deltas = [-30,-30,0,0,0,0]\n",
    "fragSubset = ['full', '44']\n",
    "df, expandedFrags, fragSubgeometryKeys, fragmentationDictionary = alanineTest.initializeAlanine(deltas, fragSubset)\n",
    "\n",
    "unresolvedDict = {}\n",
    "calcFF = False\n",
    "\n",
    "predictedMeasurement, MNDict, fractionationFactors = alanineTest.simulateMeasurement(df, fragmentationDictionary, \n",
    "                                                                                 expandedFrags, fragSubgeometryKeys, \n",
    "                                                   abundanceThreshold = 0.0,\n",
    "                                                   outputPath = str(today) + \" TUTORIAL 3 Standard\",\n",
    "                                                               calcFF = calcFF,\n",
    "                                                               ffstd = 0.05,\n",
    "                                                   unresolvedDict = unresolvedDict,\n",
    "                                                   outputFull = False,\n",
    "                                                   omitMeasurements = forbiddenPeaks,\n",
    "                                                   UValueList = UValueList,\n",
    "                                                   massThreshold = massThreshold)"
   ]
  },
  {
   "cell_type": "markdown",
   "metadata": {},
   "source": [
    "We then attempt to solve this system. We generate a forward model standard--note here the abundance threshold is set to 0 and forbiddenPeaks is empty; the forward model should be a perfect measurement. "
   ]
  },
  {
   "cell_type": "code",
   "execution_count": 8,
   "metadata": {},
   "outputs": [
    {
     "name": "stdout",
     "output_type": "stream",
     "text": [
      "Delta 18O\n",
      "0.0\n",
      "Calculating Isotopologue Concentrations\n"
     ]
    },
    {
     "name": "stderr",
     "output_type": "stream",
     "text": [
      "100%|███████████████████████████████████████████████████████████████████████████| 1512/1512 [00:00<00:00, 72200.32it/s]\n"
     ]
    },
    {
     "name": "stdout",
     "output_type": "stream",
     "text": [
      "Compiling Isotopologue Dictionary\n"
     ]
    },
    {
     "name": "stderr",
     "output_type": "stream",
     "text": [
      "100%|███████████████████████████████████████████████████████████████████████████| 1512/1512 [00:00<00:00, 39910.31it/s]"
     ]
    },
    {
     "name": "stdout",
     "output_type": "stream",
     "text": [
      "Simulating Measurement\n"
     ]
    },
    {
     "name": "stderr",
     "output_type": "stream",
     "text": [
      "\n"
     ]
    }
   ],
   "source": [
    "deltas = [-30,-30,0,0,0,0]\n",
    "fragSubset = ['full','44']\n",
    "df, expandedFrags, fragSubgeometryKeys, fragmentationDictionary = alanineTest.initializeAlanine(deltas, fragSubset)\n",
    "\n",
    "forbiddenPeaks = {}\n",
    "\n",
    "predictedMeasurement, MNDictStd, FF = alanineTest.simulateMeasurement(df, fragmentationDictionary, \n",
    "                                                                      expandedFrags, fragSubgeometryKeys, \n",
    "                                                   abundanceThreshold = 0,\n",
    "                                                     unresolvedDict = {},\n",
    "                                                    outputFull = False,\n",
    "                                                    omitMeasurements = forbiddenPeaks,\n",
    "                                                  massThreshold = 1)"
   ]
  },
  {
   "cell_type": "markdown",
   "metadata": {},
   "source": [
    "Our sample and standard are the same, so our solution should be exact; indeed it will be exact for any sites we actually constrain. However, it may be inexact for sites we do not constrain. This allows us to determine what information is theoretical achievable given the peaks we observed. \n",
    "\n",
    "We can get a plot of the underconstrained by setting plotUnconstrained = True"
   ]
  },
  {
   "cell_type": "code",
   "execution_count": 9,
   "metadata": {},
   "outputs": [
    {
     "name": "stderr",
     "output_type": "stream",
     "text": [
      "100%|███████████████████████████████████████████████████████████████████████████████| 100/100 [00:00<00:00, 496.38it/s]\n"
     ]
    },
    {
     "name": "stdout",
     "output_type": "stream",
     "text": [
      "Solution is underconstrained\n",
      "processM1MCResults will not work with GJ Solution\n",
      "After solving null space:\n",
      "Actually Constrained:\n",
      "13C Ccarboxyl\n",
      "13C Calphabeta\n",
      "15N Namine\n",
      "D Hretained\n"
     ]
    },
    {
     "name": "stderr",
     "output_type": "stream",
     "text": [
      "100%|███████████████████████████████████████████████████████████████████████████████| 100/100 [00:00<00:00, 672.94it/s]\n"
     ]
    },
    {
     "data": {
      "text/html": [
       "<div>\n",
       "<style scoped>\n",
       "    .dataframe tbody tr th:only-of-type {\n",
       "        vertical-align: middle;\n",
       "    }\n",
       "\n",
       "    .dataframe tbody tr th {\n",
       "        vertical-align: top;\n",
       "    }\n",
       "\n",
       "    .dataframe thead th {\n",
       "        text-align: right;\n",
       "    }\n",
       "</style>\n",
       "<table border=\"1\" class=\"dataframe\">\n",
       "  <thead>\n",
       "    <tr style=\"text-align: right;\">\n",
       "      <th></th>\n",
       "      <th>IDS</th>\n",
       "      <th>Number</th>\n",
       "      <th>deltas</th>\n",
       "      <th>full_01</th>\n",
       "      <th>44_01</th>\n",
       "      <th>PDB etc. Deltas</th>\n",
       "      <th>PDB etc. Deltas Error</th>\n",
       "      <th>Relative Deltas</th>\n",
       "      <th>Relative Deltas Error</th>\n",
       "      <th>M1 M+N Relative Abundance</th>\n",
       "      <th>M1 M+N Relative Abundance Error</th>\n",
       "      <th>UM1</th>\n",
       "      <th>UM1 Error</th>\n",
       "      <th>Calc U Values</th>\n",
       "      <th>Calc U Values Error</th>\n",
       "    </tr>\n",
       "  </thead>\n",
       "  <tbody>\n",
       "    <tr>\n",
       "      <th>Calphabeta</th>\n",
       "      <td>C</td>\n",
       "      <td>2</td>\n",
       "      <td>-30</td>\n",
       "      <td>1</td>\n",
       "      <td>1</td>\n",
       "      <td>-29.999996</td>\n",
       "      <td>2.842171e-14</td>\n",
       "      <td>0.000004</td>\n",
       "      <td>0.000000e+00</td>\n",
       "      <td>0.567977</td>\n",
       "      <td>5.551115e-16</td>\n",
       "      <td>0.038382</td>\n",
       "      <td>8.326673e-17</td>\n",
       "      <td>0.021800</td>\n",
       "      <td>2.081668e-17</td>\n",
       "    </tr>\n",
       "    <tr>\n",
       "      <th>Ccarboxyl</th>\n",
       "      <td>C</td>\n",
       "      <td>1</td>\n",
       "      <td>-30</td>\n",
       "      <td>1</td>\n",
       "      <td>x</td>\n",
       "      <td>-30.000008</td>\n",
       "      <td>4.973799e-14</td>\n",
       "      <td>-0.000008</td>\n",
       "      <td>0.000000e+00</td>\n",
       "      <td>0.283988</td>\n",
       "      <td>4.996004e-16</td>\n",
       "      <td>0.038382</td>\n",
       "      <td>8.326673e-17</td>\n",
       "      <td>0.010900</td>\n",
       "      <td>8.673617e-18</td>\n",
       "    </tr>\n",
       "    <tr>\n",
       "      <th>Ocarboxyl</th>\n",
       "      <td>O</td>\n",
       "      <td>2</td>\n",
       "      <td>0</td>\n",
       "      <td>1</td>\n",
       "      <td>x</td>\n",
       "      <td>-294.998593</td>\n",
       "      <td>3.979039e-13</td>\n",
       "      <td>-294.998593</td>\n",
       "      <td>2.842171e-13</td>\n",
       "      <td>0.013956</td>\n",
       "      <td>0.000000e+00</td>\n",
       "      <td>0.038382</td>\n",
       "      <td>8.326673e-17</td>\n",
       "      <td>0.000536</td>\n",
       "      <td>6.505213e-19</td>\n",
       "    </tr>\n",
       "    <tr>\n",
       "      <th>Namine</th>\n",
       "      <td>N</td>\n",
       "      <td>1</td>\n",
       "      <td>0</td>\n",
       "      <td>1</td>\n",
       "      <td>1</td>\n",
       "      <td>0.000002</td>\n",
       "      <td>0.000000e+00</td>\n",
       "      <td>0.000002</td>\n",
       "      <td>0.000000e+00</td>\n",
       "      <td>0.095774</td>\n",
       "      <td>2.775558e-17</td>\n",
       "      <td>0.038382</td>\n",
       "      <td>8.326673e-17</td>\n",
       "      <td>0.003676</td>\n",
       "      <td>3.469447e-18</td>\n",
       "    </tr>\n",
       "    <tr>\n",
       "      <th>Hretained</th>\n",
       "      <td>H</td>\n",
       "      <td>6</td>\n",
       "      <td>0</td>\n",
       "      <td>1</td>\n",
       "      <td>1</td>\n",
       "      <td>0.000020</td>\n",
       "      <td>0.000000e+00</td>\n",
       "      <td>0.000020</td>\n",
       "      <td>0.000000e+00</td>\n",
       "      <td>0.024349</td>\n",
       "      <td>4.163336e-17</td>\n",
       "      <td>0.038382</td>\n",
       "      <td>8.326673e-17</td>\n",
       "      <td>0.000935</td>\n",
       "      <td>1.517883e-18</td>\n",
       "    </tr>\n",
       "    <tr>\n",
       "      <th>Hlost</th>\n",
       "      <td>H</td>\n",
       "      <td>2</td>\n",
       "      <td>0</td>\n",
       "      <td>1</td>\n",
       "      <td>x</td>\n",
       "      <td>719.504588</td>\n",
       "      <td>1.136868e-13</td>\n",
       "      <td>719.504588</td>\n",
       "      <td>1.136868e-13</td>\n",
       "      <td>0.013956</td>\n",
       "      <td>3.469447e-17</td>\n",
       "      <td>0.038382</td>\n",
       "      <td>8.326673e-17</td>\n",
       "      <td>0.000536</td>\n",
       "      <td>6.505213e-19</td>\n",
       "    </tr>\n",
       "  </tbody>\n",
       "</table>\n",
       "</div>"
      ],
      "text/plain": [
       "           IDS Number deltas full_01 44_01  PDB etc. Deltas  \\\n",
       "Calphabeta   C      2    -30       1     1       -29.999996   \n",
       "Ccarboxyl    C      1    -30       1     x       -30.000008   \n",
       "Ocarboxyl    O      2      0       1     x      -294.998593   \n",
       "Namine       N      1      0       1     1         0.000002   \n",
       "Hretained    H      6      0       1     1         0.000020   \n",
       "Hlost        H      2      0       1     x       719.504588   \n",
       "\n",
       "            PDB etc. Deltas Error  Relative Deltas  Relative Deltas Error  \\\n",
       "Calphabeta           2.842171e-14         0.000004           0.000000e+00   \n",
       "Ccarboxyl            4.973799e-14        -0.000008           0.000000e+00   \n",
       "Ocarboxyl            3.979039e-13      -294.998593           2.842171e-13   \n",
       "Namine               0.000000e+00         0.000002           0.000000e+00   \n",
       "Hretained            0.000000e+00         0.000020           0.000000e+00   \n",
       "Hlost                1.136868e-13       719.504588           1.136868e-13   \n",
       "\n",
       "            M1 M+N Relative Abundance  M1 M+N Relative Abundance Error  \\\n",
       "Calphabeta                   0.567977                     5.551115e-16   \n",
       "Ccarboxyl                    0.283988                     4.996004e-16   \n",
       "Ocarboxyl                    0.013956                     0.000000e+00   \n",
       "Namine                       0.095774                     2.775558e-17   \n",
       "Hretained                    0.024349                     4.163336e-17   \n",
       "Hlost                        0.013956                     3.469447e-17   \n",
       "\n",
       "                 UM1     UM1 Error  Calc U Values  Calc U Values Error  \n",
       "Calphabeta  0.038382  8.326673e-17       0.021800         2.081668e-17  \n",
       "Ccarboxyl   0.038382  8.326673e-17       0.010900         8.673617e-18  \n",
       "Ocarboxyl   0.038382  8.326673e-17       0.000536         6.505213e-19  \n",
       "Namine      0.038382  8.326673e-17       0.003676         3.469447e-18  \n",
       "Hretained   0.038382  8.326673e-17       0.000935         1.517883e-18  \n",
       "Hlost       0.038382  8.326673e-17       0.000536         6.505213e-19  "
      ]
     },
     "execution_count": 9,
     "metadata": {},
     "output_type": "execute_result"
    }
   ],
   "source": [
    "standardJSON = ri.readJSON(str(today) + \" TUTORIAL 3 Standard.json\")\n",
    "processStandard = ri.readComputedData(standardJSON, error = 0, theory = predictedMeasurement)\n",
    "\n",
    "sampleJSON = ri.readJSON(str(today) + \" TUTORIAL 3 Sample.json\")\n",
    "processSample = ri.readComputedData(sampleJSON, error = 0)\n",
    "UValuesSmp = ri.readComputedUValues(sampleJSON, error = 0)\n",
    "\n",
    "isotopologuesDict = fas.isotopologueDataFrame(MNDictStd, df)\n",
    "OCorrection = ss.OValueCorrectTheoretical(predictedMeasurement, processSample, massThreshold = 1)\n",
    "\n",
    "M1Results = ss.M1MonteCarlo(processStandard, processSample, OCorrection, isotopologuesDict,\n",
    "                            fragmentationDictionary, experimentalOCorrectList = [], \n",
    "                            N = 100, GJ = False, debugMatrix = False,\n",
    "                           perturbTheoryOAmt = 0, debugUnderconstrained = True, plotUnconstrained = False)\n",
    "\n",
    "processedResults = ss.processM1MCResults(M1Results, UValuesSmp, isotopologuesDict, df, GJ = False, \n",
    "                                         UMNSub = ['13C'])\n",
    "ss.updateSiteSpecificDfM1MC(processedResults, df)"
   ]
  },
  {
   "cell_type": "markdown",
   "metadata": {},
   "source": [
    "Here, we see that we can solve for every site except Hlost and Ocarboxyl; we do not have the information to deduce these using the fragments given. \n",
    "\n",
    "Next, we can start to interrogate how different experimental difficulties will affect our results. We can define a sample that differs from the standard. Here, we set calcFF = True, to allow experimental fractionation. And we specify an unresolved Dict, allowing the full 17O peak to contribute to the full 13C peak."
   ]
  },
  {
   "cell_type": "code",
   "execution_count": 11,
   "metadata": {},
   "outputs": [
    {
     "name": "stdout",
     "output_type": "stream",
     "text": [
      "Delta 18O\n",
      "0.0\n",
      "Calculating Isotopologue Concentrations\n"
     ]
    },
    {
     "name": "stderr",
     "output_type": "stream",
     "text": [
      "100%|███████████████████████████████████████████████████████████████████████████| 1512/1512 [00:00<00:00, 79796.01it/s]\n"
     ]
    },
    {
     "name": "stdout",
     "output_type": "stream",
     "text": [
      "Compiling Isotopologue Dictionary\n"
     ]
    },
    {
     "name": "stderr",
     "output_type": "stream",
     "text": [
      "100%|███████████████████████████████████████████████████████████████████████████| 1512/1512 [00:00<00:00, 60557.73it/s]\n"
     ]
    },
    {
     "name": "stdout",
     "output_type": "stream",
     "text": [
      "Simulating Measurement\n",
      "Delta 18O\n",
      "0.0\n",
      "Calculating Isotopologue Concentrations\n"
     ]
    },
    {
     "name": "stderr",
     "output_type": "stream",
     "text": [
      "100%|███████████████████████████████████████████████████████████████████████████| 1512/1512 [00:00<00:00, 79653.69it/s]\n"
     ]
    },
    {
     "name": "stdout",
     "output_type": "stream",
     "text": [
      "Compiling Isotopologue Dictionary\n"
     ]
    },
    {
     "name": "stderr",
     "output_type": "stream",
     "text": [
      "100%|███████████████████████████████████████████████████████████████████████████| 1512/1512 [00:00<00:00, 40980.59it/s]"
     ]
    },
    {
     "name": "stdout",
     "output_type": "stream",
     "text": [
      "Simulating Measurement\n"
     ]
    },
    {
     "name": "stderr",
     "output_type": "stream",
     "text": [
      "\n"
     ]
    }
   ],
   "source": [
    "###NEW SAMPLE\n",
    "deltasSmp = [-40,-20,0,-10,25,40]\n",
    "fragSubset = ['full', '44']\n",
    "df, expandedFrags, fragSubgeometryKeys, fragmentationDictionary = alanineTest.initializeAlanine(deltasSmp, fragSubset)\n",
    "\n",
    "unresolvedDict = {}\n",
    "calcFF = True\n",
    "forbiddenPeaks = {'M1':{'full':['17O','D'],'44':['D']}}\n",
    "UValueList = ['13C']\n",
    "unresolvedDict = {'M1':{'full':{'17O':'13C'}}}\n",
    "\n",
    "predictedMeasurement, MNDict, fractionationFactors = alanineTest.simulateMeasurement(df, fragmentationDictionary, \n",
    "                                                                                 expandedFrags, fragSubgeometryKeys, \n",
    "                                                   abundanceThreshold = 0.0,\n",
    "                                                   outputPath = str(today) + \" TUTORIAL 3 Sample\",\n",
    "                                                               calcFF = True,\n",
    "                                                               ffstd = 0.05,\n",
    "                                                   unresolvedDict = unresolvedDict,\n",
    "                                                   outputFull = False,\n",
    "                                                   omitMeasurements = forbiddenPeaks,\n",
    "                                                   UValueList = UValueList,\n",
    "                                                   massThreshold = 1)\n",
    "                                                   \n",
    "\n",
    "###NEW STANDARD\n",
    "deltasStd = [-30,-30,0,0,0,0]\n",
    "df, expandedFrags, fragSubgeometryKeys, fragmentationDictionary = alanineTest.initializeAlanine(deltasStd, fragSubset)\n",
    "\n",
    "predictedMeasurement, MNDict, FF = alanineTest.simulateMeasurement(df, fragmentationDictionary, \n",
    "                                                                                 expandedFrags, fragSubgeometryKeys, \n",
    "                                                   abundanceThreshold = 0.0,\n",
    "                                                   outputPath = str(today) + \" TUTORIAL 3 Standard\",\n",
    "                                                               calcFF = False,\n",
    "                                                               ffstd = 0.05,\n",
    "                                                   fractionationFactors = fractionationFactors,\n",
    "                                                   unresolvedDict = unresolvedDict,\n",
    "                                                   outputFull = False,\n",
    "                                                   omitMeasurements = forbiddenPeaks,\n",
    "                                                   UValueList = UValueList,\n",
    "                                                   massThreshold = 1)\n"
   ]
  },
  {
   "cell_type": "markdown",
   "metadata": {},
   "source": [
    "Next, we calculate our forward model--here we assume we don't actually know the standard perfectly, introducing some errors. "
   ]
  },
  {
   "cell_type": "code",
   "execution_count": 12,
   "metadata": {},
   "outputs": [
    {
     "name": "stdout",
     "output_type": "stream",
     "text": [
      "Delta 18O\n",
      "0.0\n",
      "Calculating Isotopologue Concentrations\n"
     ]
    },
    {
     "name": "stderr",
     "output_type": "stream",
     "text": [
      "100%|███████████████████████████████████████████████████████████████████████████| 1512/1512 [00:00<00:00, 72085.43it/s]\n"
     ]
    },
    {
     "name": "stdout",
     "output_type": "stream",
     "text": [
      "Compiling Isotopologue Dictionary\n"
     ]
    },
    {
     "name": "stderr",
     "output_type": "stream",
     "text": [
      "100%|███████████████████████████████████████████████████████████████████████████| 1512/1512 [00:00<00:00, 60639.96it/s]"
     ]
    },
    {
     "name": "stdout",
     "output_type": "stream",
     "text": [
      "Simulating Measurement\n"
     ]
    },
    {
     "name": "stderr",
     "output_type": "stream",
     "text": [
      "\n"
     ]
    }
   ],
   "source": [
    "#deltas = [-35,-20,0,-7,50,-50]\n",
    "deltas = [-30,-30,0,0,0,0]\n",
    "fragSubset = ['full','44']\n",
    "df, expandedFrags, fragSubgeometryKeys, fragmentationDictionary = alanineTest.initializeAlanine(deltas, fragSubset)\n",
    "\n",
    "forbiddenPeaks = {}\n",
    "\n",
    "predictedMeasurement, MNDictStd, FF = alanineTest.simulateMeasurement(df, fragmentationDictionary, \n",
    "                                                                      expandedFrags, fragSubgeometryKeys, \n",
    "                                                   abundanceThreshold = 0,\n",
    "                                                     unresolvedDict = {},\n",
    "                                                    outputFull = False,\n",
    "                                                    omitMeasurements = forbiddenPeaks,\n",
    "                                                   massThreshold = 1)"
   ]
  },
  {
   "cell_type": "markdown",
   "metadata": {},
   "source": [
    "Then we solve--introducing experimental error and a perturbation to the PA Value correction (perturbTheoryPAAmt) both of which also add to the error of our solution. This gives us a reasonable baseline as to how accurate a solution we can expect for our system in a real situation. "
   ]
  },
  {
   "cell_type": "code",
   "execution_count": 13,
   "metadata": {},
   "outputs": [
    {
     "data": {
      "text/plain": [
       "{'M1': {'full': {'Subs': ['15N', '13C'],\n",
       "   'Predicted Abundance': [],\n",
       "   'Observed Abundance': [0.10105494100931567, 0.8989450589906843],\n",
       "   'Error': [0.0, 0.0]},\n",
       "  '44': {'Subs': ['Unsub', '15N', '13C'],\n",
       "   'Predicted Abundance': [],\n",
       "   'Observed Abundance': [0.31968438434406377,\n",
       "    0.09816390766269176,\n",
       "    0.5821517079932446],\n",
       "   'Error': [0.0, 0.0, 0.0]}}}"
      ]
     },
     "execution_count": 13,
     "metadata": {},
     "output_type": "execute_result"
    }
   ],
   "source": [
    "processSample"
   ]
  },
  {
   "cell_type": "code",
   "execution_count": 14,
   "metadata": {},
   "outputs": [
    {
     "data": {
      "text/plain": [
       "{'M1': {'full': {'Subs': ['15N', '13C'],\n",
       "   'Predicted Abundance': [0.09577373138104994, 0.8519654926933189],\n",
       "   'Observed Abundance': [0.10105494100931567, 0.8989450589906843],\n",
       "   'Error': [0.0, 0.0],\n",
       "   'Perturbed': array([0.10105494, 0.89894506]),\n",
       "   'Correction Factor': array([1.05514257, 1.05514257])},\n",
       "  '44': {'Subs': ['Unsub', '15N', '13C'],\n",
       "   'Predicted Abundance': [0.3119004436751976,\n",
       "    0.09577373138104994,\n",
       "    0.5679769951288792],\n",
       "   'Observed Abundance': [0.31968438434406377,\n",
       "    0.09816390766269176,\n",
       "    0.5821517079932446],\n",
       "   'Error': [0.0, 0.0, 0.0],\n",
       "   'Perturbed': array([0.31968438, 0.09816391, 0.58215171]),\n",
       "   'Correction Factor': array([1.02495649, 1.02495649, 1.02495649])}}}"
      ]
     },
     "execution_count": 14,
     "metadata": {},
     "output_type": "execute_result"
    }
   ],
   "source": [
    "processStandard"
   ]
  },
  {
   "cell_type": "code",
   "execution_count": 15,
   "metadata": {},
   "outputs": [
    {
     "name": "stderr",
     "output_type": "stream",
     "text": [
      "100%|█████████████████████████████████████████████████████████████████████████████| 1000/1000 [00:01<00:00, 501.34it/s]\n"
     ]
    },
    {
     "name": "stdout",
     "output_type": "stream",
     "text": [
      "Solution is underconstrained\n",
      "processM1MCResults will not work with GJ Solution\n",
      "After solving null space:\n",
      "Actually Constrained:\n",
      "13C Ccarboxyl\n",
      "13C Calphabeta\n",
      "15N Namine\n",
      "D Hretained\n"
     ]
    },
    {
     "name": "stderr",
     "output_type": "stream",
     "text": [
      "100%|█████████████████████████████████████████████████████████████████████████████| 1000/1000 [00:01<00:00, 612.74it/s]\n"
     ]
    },
    {
     "data": {
      "text/html": [
       "<div>\n",
       "<style scoped>\n",
       "    .dataframe tbody tr th:only-of-type {\n",
       "        vertical-align: middle;\n",
       "    }\n",
       "\n",
       "    .dataframe tbody tr th {\n",
       "        vertical-align: top;\n",
       "    }\n",
       "\n",
       "    .dataframe thead th {\n",
       "        text-align: right;\n",
       "    }\n",
       "</style>\n",
       "<table border=\"1\" class=\"dataframe\">\n",
       "  <thead>\n",
       "    <tr style=\"text-align: right;\">\n",
       "      <th></th>\n",
       "      <th>IDS</th>\n",
       "      <th>Number</th>\n",
       "      <th>deltas</th>\n",
       "      <th>full_01</th>\n",
       "      <th>44_01</th>\n",
       "      <th>PDB etc. Deltas</th>\n",
       "      <th>PDB etc. Deltas Error</th>\n",
       "      <th>Relative Deltas</th>\n",
       "      <th>Relative Deltas Error</th>\n",
       "      <th>M1 M+N Relative Abundance</th>\n",
       "      <th>M1 M+N Relative Abundance Error</th>\n",
       "      <th>UM1</th>\n",
       "      <th>UM1 Error</th>\n",
       "      <th>Calc U Values</th>\n",
       "      <th>Calc U Values Error</th>\n",
       "    </tr>\n",
       "  </thead>\n",
       "  <tbody>\n",
       "    <tr>\n",
       "      <th>Calphabeta</th>\n",
       "      <td>C</td>\n",
       "      <td>2</td>\n",
       "      <td>-30</td>\n",
       "      <td>1</td>\n",
       "      <td>1</td>\n",
       "      <td>-40.445100</td>\n",
       "      <td>1.599369</td>\n",
       "      <td>-10.768144</td>\n",
       "      <td>1.648834</td>\n",
       "      <td>0.564181</td>\n",
       "      <td>0.000718</td>\n",
       "      <td>0.038224</td>\n",
       "      <td>0.00004</td>\n",
       "      <td>0.021565</td>\n",
       "      <td>0.000036</td>\n",
       "    </tr>\n",
       "    <tr>\n",
       "      <th>Ccarboxyl</th>\n",
       "      <td>C</td>\n",
       "      <td>1</td>\n",
       "      <td>-30</td>\n",
       "      <td>1</td>\n",
       "      <td>x</td>\n",
       "      <td>-19.109276</td>\n",
       "      <td>3.189024</td>\n",
       "      <td>11.227550</td>\n",
       "      <td>3.287653</td>\n",
       "      <td>0.288364</td>\n",
       "      <td>0.001151</td>\n",
       "      <td>0.038224</td>\n",
       "      <td>0.00004</td>\n",
       "      <td>0.011022</td>\n",
       "      <td>0.000036</td>\n",
       "    </tr>\n",
       "    <tr>\n",
       "      <th>Ocarboxyl</th>\n",
       "      <td>O</td>\n",
       "      <td>2</td>\n",
       "      <td>0</td>\n",
       "      <td>1</td>\n",
       "      <td>x</td>\n",
       "      <td>-296.493370</td>\n",
       "      <td>33.135487</td>\n",
       "      <td>-296.493370</td>\n",
       "      <td>33.135487</td>\n",
       "      <td>0.013983</td>\n",
       "      <td>0.000648</td>\n",
       "      <td>0.038224</td>\n",
       "      <td>0.00004</td>\n",
       "      <td>0.000535</td>\n",
       "      <td>0.000025</td>\n",
       "    </tr>\n",
       "    <tr>\n",
       "      <th>Namine</th>\n",
       "      <td>N</td>\n",
       "      <td>1</td>\n",
       "      <td>0</td>\n",
       "      <td>1</td>\n",
       "      <td>1</td>\n",
       "      <td>-10.190007</td>\n",
       "      <td>1.559223</td>\n",
       "      <td>-10.190007</td>\n",
       "      <td>1.559223</td>\n",
       "      <td>0.095189</td>\n",
       "      <td>0.000133</td>\n",
       "      <td>0.038224</td>\n",
       "      <td>0.00004</td>\n",
       "      <td>0.003639</td>\n",
       "      <td>0.000006</td>\n",
       "    </tr>\n",
       "    <tr>\n",
       "      <th>Hretained</th>\n",
       "      <td>H</td>\n",
       "      <td>6</td>\n",
       "      <td>0</td>\n",
       "      <td>1</td>\n",
       "      <td>1</td>\n",
       "      <td>-6.162892</td>\n",
       "      <td>39.765432</td>\n",
       "      <td>-6.162892</td>\n",
       "      <td>39.765432</td>\n",
       "      <td>0.024299</td>\n",
       "      <td>0.000972</td>\n",
       "      <td>0.038224</td>\n",
       "      <td>0.00004</td>\n",
       "      <td>0.000929</td>\n",
       "      <td>0.000037</td>\n",
       "    </tr>\n",
       "    <tr>\n",
       "      <th>Hlost</th>\n",
       "      <td>H</td>\n",
       "      <td>2</td>\n",
       "      <td>0</td>\n",
       "      <td>1</td>\n",
       "      <td>x</td>\n",
       "      <td>715.858814</td>\n",
       "      <td>80.817741</td>\n",
       "      <td>715.858814</td>\n",
       "      <td>80.817741</td>\n",
       "      <td>0.013983</td>\n",
       "      <td>0.000648</td>\n",
       "      <td>0.038224</td>\n",
       "      <td>0.00004</td>\n",
       "      <td>0.000535</td>\n",
       "      <td>0.000025</td>\n",
       "    </tr>\n",
       "  </tbody>\n",
       "</table>\n",
       "</div>"
      ],
      "text/plain": [
       "           IDS Number deltas full_01 44_01  PDB etc. Deltas  \\\n",
       "Calphabeta   C      2    -30       1     1       -40.445100   \n",
       "Ccarboxyl    C      1    -30       1     x       -19.109276   \n",
       "Ocarboxyl    O      2      0       1     x      -296.493370   \n",
       "Namine       N      1      0       1     1       -10.190007   \n",
       "Hretained    H      6      0       1     1        -6.162892   \n",
       "Hlost        H      2      0       1     x       715.858814   \n",
       "\n",
       "            PDB etc. Deltas Error  Relative Deltas  Relative Deltas Error  \\\n",
       "Calphabeta               1.599369       -10.768144               1.648834   \n",
       "Ccarboxyl                3.189024        11.227550               3.287653   \n",
       "Ocarboxyl               33.135487      -296.493370              33.135487   \n",
       "Namine                   1.559223       -10.190007               1.559223   \n",
       "Hretained               39.765432        -6.162892              39.765432   \n",
       "Hlost                   80.817741       715.858814              80.817741   \n",
       "\n",
       "            M1 M+N Relative Abundance  M1 M+N Relative Abundance Error  \\\n",
       "Calphabeta                   0.564181                         0.000718   \n",
       "Ccarboxyl                    0.288364                         0.001151   \n",
       "Ocarboxyl                    0.013983                         0.000648   \n",
       "Namine                       0.095189                         0.000133   \n",
       "Hretained                    0.024299                         0.000972   \n",
       "Hlost                        0.013983                         0.000648   \n",
       "\n",
       "                 UM1  UM1 Error  Calc U Values  Calc U Values Error  \n",
       "Calphabeta  0.038224    0.00004       0.021565             0.000036  \n",
       "Ccarboxyl   0.038224    0.00004       0.011022             0.000036  \n",
       "Ocarboxyl   0.038224    0.00004       0.000535             0.000025  \n",
       "Namine      0.038224    0.00004       0.003639             0.000006  \n",
       "Hretained   0.038224    0.00004       0.000929             0.000037  \n",
       "Hlost       0.038224    0.00004       0.000535             0.000025  "
      ]
     },
     "execution_count": 15,
     "metadata": {},
     "output_type": "execute_result"
    }
   ],
   "source": [
    "standardJSON = ri.readJSON(str(today) + \" TUTORIAL 3 Standard.json\")\n",
    "processStandard = ri.readComputedData(standardJSON, error = 0.001, theory = predictedMeasurement)\n",
    "\n",
    "sampleJSON = ri.readJSON(str(today) + \" TUTORIAL 3 Sample.json\")\n",
    "processSample = ri.readComputedData(sampleJSON, error = 0.001)\n",
    "UValuesSmp = ri.readComputedUValues(sampleJSON, error = 0.0001)\n",
    "\n",
    "isotopologuesDict = fas.isotopologueDataFrame(MNDictStd, df)\n",
    "OCorrection = ss.OValueCorrectTheoretical(predictedMeasurement, processSample, massThreshold = 1)\n",
    "\n",
    "M1Results = ss.M1MonteCarlo(processStandard, processSample, OCorrection, isotopologuesDict,\n",
    "                            fragmentationDictionary, experimentalOCorrectList = [], \n",
    "                            N = 1000, GJ = False, debugMatrix = False,\n",
    "                           perturbTheoryOAmt = 0.001)\n",
    "\n",
    "processedResults = ss.processM1MCResults(M1Results, UValuesSmp, isotopologuesDict, df, GJ = False, \n",
    "                                         UMNSub = ['13C'])\n",
    "ss.updateSiteSpecificDfM1MC(processedResults, df)"
   ]
  },
  {
   "cell_type": "markdown",
   "metadata": {},
   "source": [
    "Because our standard is poorly known, we are most interested in the relative deltas column. We can see how well we did by comparing with the actual values."
   ]
  },
  {
   "cell_type": "code",
   "execution_count": 16,
   "metadata": {},
   "outputs": [],
   "source": [
    "relativeDeltas = [op.compareRelDelta(atomID, delta1, delta2) for atomID, delta1, delta2 in zip(df['IDS'], deltasStd, deltasSmp)]"
   ]
  },
  {
   "cell_type": "code",
   "execution_count": 17,
   "metadata": {},
   "outputs": [
    {
     "data": {
      "image/png": "[encoded data removed]",
      "text/plain": [
       "<Figure size 576x288 with 1 Axes>"
      ]
     },
     "metadata": {
      "needs_background": "light"
     },
     "output_type": "display_data"
    }
   ],
   "source": [
    "fig, ax = plt.subplots(figsize = (8,4))\n",
    "\n",
    "plt.scatter(range(len(relativeDeltas)),relativeDeltas, label = 'Actual', marker = 's', color = 'r')\n",
    "plt.errorbar(range(len(relativeDeltas)),df['Relative Deltas'],df['Relative Deltas Error'], fmt = 'o',c='k',\n",
    "            label = 'Computed')\n",
    "plt.legend()\n",
    "plt.ylim(-20,20)\n",
    "ax.set_xticks(range(len(relativeDeltas)))\n",
    "ax.set_xticklabels(df.index, rotation = 45);"
   ]
  },
  {
   "cell_type": "markdown",
   "metadata": {},
   "source": [
    "We see we accurately recover the values for Calphabeta, Ccarboxyl, and Namine (and Hretained, but at poor precision)"
   ]
  },
  {
   "cell_type": "markdown",
   "metadata": {},
   "source": [
    "With that, the tutorial is finished! There are more features to learn and use, and we encourage interested users to work through the methionine demonstrate provided to interrogate these problems."
   ]
  }
 ],
 "metadata": {
  "kernelspec": {
   "display_name": "Python [conda env:Orbitrap] *",
   "language": "python",
   "name": "conda-env-Orbitrap-py"
  },
  "language_info": {
   "codemirror_mode": {
    "name": "ipython",
    "version": 3
   },
   "file_extension": ".py",
   "mimetype": "text/x-python",
   "name": "python",
   "nbconvert_exporter": "python",
   "pygments_lexer": "ipython3",
   "version": "3.7.11"
  }
 },
 "nbformat": 4,
 "nbformat_minor": 2
}
